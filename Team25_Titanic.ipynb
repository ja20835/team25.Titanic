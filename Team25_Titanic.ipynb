{
  "nbformat": 4,
  "nbformat_minor": 0,
  "metadata": {
    "colab": {
      "name": "Team25.Titanic.ipynb",
      "provenance": [],
      "collapsed_sections": [],
      "include_colab_link": true
    },
    "kernelspec": {
      "name": "python3",
      "display_name": "Python 3"
    }
  },
  "cells": [
    {
      "cell_type": "markdown",
      "metadata": {
        "id": "view-in-github",
        "colab_type": "text"
      },
      "source": [
        "<a href=\"https://colab.research.google.com/github/ja20835/team25.Titanic/blob/main/Team25_Titanic.ipynb\" target=\"_parent\"><img src=\"https://colab.research.google.com/assets/colab-badge.svg\" alt=\"Open In Colab\"/></a>"
      ]
    },
    {
      "cell_type": "markdown",
      "metadata": {
        "id": "phyVK_tIpmk1"
      },
      "source": [
        "# Initialise imports and files"
      ]
    },
    {
      "cell_type": "code",
      "metadata": {
        "id": "tMCTHHARcUvq"
      },
      "source": [
        "# Data Analysis\n",
        "import pandas as pd\n",
        "import numpy as np\n",
        "from google.colab import output\n",
        "pd.set_option('display.max_columns', None)\n",
        "pd.set_option('display.width', 200)\n",
        "pd.set_option('precision', 3)\n",
        "pd.set_option('mode.chained_assignment', None)"
      ],
      "execution_count": 1,
      "outputs": []
    },
    {
      "cell_type": "code",
      "metadata": {
        "id": "tyLzAHlWcqeg"
      },
      "source": [
        "# Data Visualisation\n",
        "import matplotlib.pyplot as plt\n",
        "import seaborn as sns\n",
        "from collections import Counter"
      ],
      "execution_count": 2,
      "outputs": []
    },
    {
      "cell_type": "code",
      "metadata": {
        "id": "bHKUmTGcc3Up"
      },
      "source": [
        "# PreProcessing & ML Models\n",
        "import sklearn\n",
        "from sklearn.preprocessing import MinMaxScaler\n",
        "from sklearn.model_selection import GridSearchCV\n",
        "from sklearn.metrics import accuracy_score\n",
        "from sklearn.linear_model import LogisticRegression\n",
        "from sklearn.neighbors import KNeighborsClassifier\n",
        "from sklearn.ensemble import RandomForestClassifier\n",
        "from sklearn.tree import DecisionTreeClassifier, DecisionTreeRegressor"
      ],
      "execution_count": 3,
      "outputs": []
    },
    {
      "cell_type": "code",
      "metadata": {
        "id": "Q_2gC8-yd6S-"
      },
      "source": [
        "# Get DataFiles from GitHub\n",
        "! git clone https://github.com/ja20835/team25.Titanic.git\n",
        "\n",
        "# Function to combine DataSets\n",
        "def combineDataSet(train_data, test_data):\n",
        "  return pd.concat([train_data, test_data], sort=False).reset_index(drop=True)\n",
        "\n",
        "# Function to split combined DataSet\n",
        "def splitDataSet(combined_data):\n",
        "  return combined_data.loc[:890], combined_data.loc[891:].drop(['Survived'], axis=1)\n",
        "\n",
        "# Create DataSets for train/test\n",
        "train = pd.read_csv('team25.Titanic/train.csv')\n",
        "test = pd.read_csv('team25.Titanic/test.csv')\n",
        "combined = combineDataSet(train, test)\n",
        "dfs = [train, test]\n",
        "\n",
        "# Function to show correlation from 1 feature to others\n",
        "corr = combined.corr().abs().unstack().sort_values(kind='quicksort', ascending=False).reset_index()\n",
        "corr.rename(columns={'level_0': 'Feature 1', 'level_1': 'Feature 2', 0: 'Corr'}, inplace=True)\n",
        "\n",
        "# Remove redundent output from this section\n",
        "output.clear()"
      ],
      "execution_count": 4,
      "outputs": []
    },
    {
      "cell_type": "markdown",
      "metadata": {
        "id": "yckaNhvDpyIw"
      },
      "source": [
        "# Visualise Raw Data"
      ]
    },
    {
      "cell_type": "code",
      "metadata": {
        "colab": {
          "base_uri": "https://localhost:8080/"
        },
        "id": "7KhzbvBXp2ol",
        "outputId": "f1ffb2d0-4d79-4e4b-f087-fed6a1090eb3"
      },
      "source": [
        "# Show samples of train, test and combined DataSets\n",
        "\n",
        "print('Shape of train: ', train.shape)\n",
        "print(train.sample(3), '\\n')\n",
        "\n",
        "print('Shape of test: ', test.shape)\n",
        "print(test.sample(3), '\\n')\n",
        "\n",
        "print('Shape of combined: ', combined.shape)\n",
        "print(combined.sample(3))"
      ],
      "execution_count": 5,
      "outputs": [
        {
          "output_type": "stream",
          "text": [
            "Shape of train:  (891, 12)\n",
            "     PassengerId  Survived  Pclass                                               Name     Sex   Age  SibSp  Parch  Ticket    Fare Cabin Embarked\n",
            "32            33         1       3                           Glynn, Miss. Mary Agatha  female   NaN      0      0  335677   7.750   NaN        Q\n",
            "610          611         0       3  Andersson, Mrs. Anders Johan (Alfrida Konstant...  female  39.0      1      5  347082  31.275   NaN        S\n",
            "575          576         0       3                               Patchett, Mr. George    male  19.0      0      0  358585  14.500   NaN        S \n",
            "\n",
            "Shape of test:  (418, 11)\n",
            "     PassengerId  Pclass                                               Name     Sex   Age  SibSp  Parch    Ticket     Fare Cabin Embarked\n",
            "414         1306       1                       Oliva y Ocana, Dona. Fermina  female  39.0      0      0  PC 17758  108.900  C105        C\n",
            "157         1049       3                           Lundin, Miss. Olga Elida  female  23.0      0      0    347469    7.854   NaN        S\n",
            "90           982       3  Dyker, Mrs. Adolf Fredrik (Anna Elisabeth Judi...  female  22.0      1      0    347072   13.900   NaN        S \n",
            "\n",
            "Shape of combined:  (1309, 12)\n",
            "     PassengerId  Survived  Pclass                                             Name     Sex   Age  SibSp  Parch            Ticket    Fare Cabin Embarked\n",
            "662          663       0.0       1                       Colley, Mr. Edward Pomeroy    male  47.0      0      0              5727  25.587   E58        S\n",
            "416          417       1.0       2  Drew, Mrs. James Vivian (Lulu Thorne Christian)  female  34.0      1      1             28220  32.500   NaN        S\n",
            "2              3       1.0       3                           Heikkinen, Miss. Laina  female  26.0      0      0  STON/O2. 3101282   7.925   NaN        S\n"
          ],
          "name": "stdout"
        }
      ]
    },
    {
      "cell_type": "markdown",
      "metadata": {
        "id": "cQrAGa58257A"
      },
      "source": [
        "# Age"
      ]
    },
    {
      "cell_type": "code",
      "metadata": {
        "colab": {
          "base_uri": "https://localhost:8080/",
          "height": 0
        },
        "id": "SRzvNGhk2-Cu",
        "outputId": "d0a41cc7-aca4-4cc9-91fa-5f6793b77298"
      },
      "source": [
        "# Show number of nulls in Age column\n",
        "# Show correlation of Age to other existing columns\n",
        "\n",
        "print('Amount of Nulls:', combined.Age.isnull().sum(), '\\n')\n",
        "corr[corr['Feature 1'] == 'Age']"
      ],
      "execution_count": 6,
      "outputs": [
        {
          "output_type": "stream",
          "text": [
            "Amount of Nulls: 263 \n",
            "\n"
          ],
          "name": "stdout"
        },
        {
          "output_type": "execute_result",
          "data": {
            "text/html": [
              "<div>\n",
              "<style scoped>\n",
              "    .dataframe tbody tr th:only-of-type {\n",
              "        vertical-align: middle;\n",
              "    }\n",
              "\n",
              "    .dataframe tbody tr th {\n",
              "        vertical-align: top;\n",
              "    }\n",
              "\n",
              "    .dataframe thead th {\n",
              "        text-align: right;\n",
              "    }\n",
              "</style>\n",
              "<table border=\"1\" class=\"dataframe\">\n",
              "  <thead>\n",
              "    <tr style=\"text-align: right;\">\n",
              "      <th></th>\n",
              "      <th>Feature 1</th>\n",
              "      <th>Feature 2</th>\n",
              "      <th>Corr</th>\n",
              "    </tr>\n",
              "  </thead>\n",
              "  <tbody>\n",
              "    <tr>\n",
              "      <th>5</th>\n",
              "      <td>Age</td>\n",
              "      <td>Age</td>\n",
              "      <td>1.000</td>\n",
              "    </tr>\n",
              "    <tr>\n",
              "      <th>10</th>\n",
              "      <td>Age</td>\n",
              "      <td>Pclass</td>\n",
              "      <td>0.408</td>\n",
              "    </tr>\n",
              "    <tr>\n",
              "      <th>17</th>\n",
              "      <td>Age</td>\n",
              "      <td>SibSp</td>\n",
              "      <td>0.244</td>\n",
              "    </tr>\n",
              "    <tr>\n",
              "      <th>21</th>\n",
              "      <td>Age</td>\n",
              "      <td>Fare</td>\n",
              "      <td>0.179</td>\n",
              "    </tr>\n",
              "    <tr>\n",
              "      <th>25</th>\n",
              "      <td>Age</td>\n",
              "      <td>Parch</td>\n",
              "      <td>0.151</td>\n",
              "    </tr>\n",
              "    <tr>\n",
              "      <th>29</th>\n",
              "      <td>Age</td>\n",
              "      <td>Survived</td>\n",
              "      <td>0.077</td>\n",
              "    </tr>\n",
              "    <tr>\n",
              "      <th>42</th>\n",
              "      <td>Age</td>\n",
              "      <td>PassengerId</td>\n",
              "      <td>0.029</td>\n",
              "    </tr>\n",
              "  </tbody>\n",
              "</table>\n",
              "</div>"
            ],
            "text/plain": [
              "   Feature 1    Feature 2   Corr\n",
              "5        Age          Age  1.000\n",
              "10       Age       Pclass  0.408\n",
              "17       Age        SibSp  0.244\n",
              "21       Age         Fare  0.179\n",
              "25       Age        Parch  0.151\n",
              "29       Age     Survived  0.077\n",
              "42       Age  PassengerId  0.029"
            ]
          },
          "metadata": {
            "tags": []
          },
          "execution_count": 6
        }
      ]
    },
    {
      "cell_type": "code",
      "metadata": {
        "colab": {
          "base_uri": "https://localhost:8080/"
        },
        "id": "vUOaRX75_Rqt",
        "outputId": "d55f4921-285b-4249-eee0-992d13c9a908"
      },
      "source": [
        "# Calculate and insert mean Age for missing rows, using Sex and Pclass for more accurate ages\n",
        "\n",
        "meanAge = combined.groupby(['Sex', 'Pclass']).mean()['Age']\n",
        "\n",
        "for Pclass in range(1, 4):\n",
        "  for Sex in ['female', 'male']:\n",
        "    print('Mean age of Pclass {} {}s: {}' .format(Pclass, Sex, meanAge[Sex, Pclass]))\n",
        "    \n",
        "combined['Age'] = combined.groupby(['Sex', 'Pclass'])['Age'].apply(lambda x: x.fillna(x.mean()))"
      ],
      "execution_count": 7,
      "outputs": [
        {
          "output_type": "stream",
          "text": [
            "Mean age of Pclass 1 females: 37.037593984962406\n",
            "Mean age of Pclass 1 males: 41.02927152317881\n",
            "Mean age of Pclass 2 females: 27.499223300970876\n",
            "Mean age of Pclass 2 males: 30.815379746835443\n",
            "Mean age of Pclass 3 females: 22.185328947368422\n",
            "Mean age of Pclass 3 males: 25.962263610315187\n"
          ],
          "name": "stdout"
        }
      ]
    },
    {
      "cell_type": "code",
      "metadata": {
        "colab": {
          "base_uri": "https://localhost:8080/",
          "height": 0
        },
        "id": "Bk2Qm18uBllP",
        "outputId": "4cf75c14-ff56-4c2b-ec25-f2a263dba1e4"
      },
      "source": [
        "# HistPlot for Age of passengers\n",
        "\n",
        "sns.histplot(combined['Age'], kde = True, bins = 25, color = 'darkblue')\n",
        "sns.despine()\n",
        "combined['qAge'] = pd.qcut(combined['Age'], 12)"
      ],
      "execution_count": 8,
      "outputs": [
        {
          "output_type": "display_data",
          "data": {
            "image/png": "[encoded data removed]",
            "text/plain": [
              "<Figure size 432x288 with 1 Axes>"
            ]
          },
          "metadata": {
            "tags": [],
            "needs_background": "light"
          }
        }
      ]
    },
    {
      "cell_type": "code",
      "metadata": {
        "colab": {
          "base_uri": "https://localhost:8080/",
          "height": 0
        },
        "id": "-mEJZF4yOh4H",
        "outputId": "23a92a7d-3ffc-4b06-a2b7-9b563821eace"
      },
      "source": [
        "# CountPlot for Age, split by surival\n",
        "\n",
        "plt.figure(figsize=(20, 8))\n",
        "sns.countplot(x='qAge', hue='Survived', data=combined, \n",
        "              edgecolor='black', palette=['#A52A2A', '#7CB9E8']) \n",
        "\n",
        "plt.xlabel('qAge', size=15, labelpad=20)\n",
        "plt.ylabel('Passenger Count', size=15, labelpad=20)\n",
        "plt.tick_params(axis='x', labelsize=10)\n",
        "plt.tick_params(axis='y', labelsize=15)\n",
        "\n",
        "plt.legend(['Died', 'Survived'], loc='upper right', prop={'size': 15})\n",
        "plt.title('Passenger Survival for {}'.format('Age'), size=15, y=1.05)\n",
        "\n",
        "plt.show()"
      ],
      "execution_count": 9,
      "outputs": [
        {
          "output_type": "display_data",
          "data": {
            "image/png": "[encoded data removed]",
            "text/plain": [
              "<Figure size 1440x576 with 1 Axes>"
            ]
          },
          "metadata": {
            "tags": [],
            "needs_background": "light"
          }
        }
      ]
    },
    {
      "cell_type": "markdown",
      "metadata": {
        "id": "NKjz2kFVKygT"
      },
      "source": [
        "# Cabin"
      ]
    },
    {
      "cell_type": "code",
      "metadata": {
        "colab": {
          "base_uri": "https://localhost:8080/"
        },
        "id": "YSEuWmdCTKvz",
        "outputId": "cd85ba64-f7f8-48f4-b343-88ce9b966409"
      },
      "source": [
        "# Show number of nulls in Cabin column\n",
        "\n",
        "print('Amount of Nulls:', combined.Cabin.isnull().sum())"
      ],
      "execution_count": 10,
      "outputs": [
        {
          "output_type": "stream",
          "text": [
            "Amount of Nulls: 1014\n"
          ],
          "name": "stdout"
        }
      ]
    },
    {
      "cell_type": "code",
      "metadata": {
        "id": "GRboyEVcMioW"
      },
      "source": [
        "# Create Deck column from existing Cabin Values\n",
        "# If Cabin row is null, insert value U for Unknown\n",
        "\n",
        "combined['Deck'] = combined['Cabin'].apply(lambda s: s[0] if pd.notnull(s) else 'U')\n",
        "\n",
        "combined.drop(['Cabin'], inplace=True, axis=1)"
      ],
      "execution_count": 11,
      "outputs": []
    },
    {
      "cell_type": "code",
      "metadata": {
        "id": "CGaL6TGZix9E"
      },
      "source": [
        "# Group Deck values\n",
        "\n",
        "combined['Deck'] = combined['Deck'].replace(['A', 'B', 'C', 'T'], 'ABC')\n",
        "combined['Deck'] = combined['Deck'].replace(['D', 'E'], 'DE')\n",
        "combined['Deck'] = combined['Deck'].replace(['F', 'G'], 'FG')"
      ],
      "execution_count": 12,
      "outputs": []
    },
    {
      "cell_type": "code",
      "metadata": {
        "id": "nFggTm9gi2iM"
      },
      "source": [
        "# Add Deck value for passengers with Pclass1 and current U\n",
        "# We do this as we know all Pclass1 passengers were in the ABC Deck group\n",
        "\n",
        "Pclass = combined['Pclass']\n",
        "Deck = combined['Deck']\n",
        "for x in range(len(Pclass)):\n",
        "  if Pclass[x] == 1 and Deck[x] == 'U':\n",
        "    Deck[x] = 'ABC'"
      ],
      "execution_count": 13,
      "outputs": []
    },
    {
      "cell_type": "code",
      "metadata": {
        "id": "eDggp-fTTSCi"
      },
      "source": [
        "combinedSurvival = combined.groupby(['Deck', 'Survived']).count().drop(columns=[\n",
        "                                      'Sex', 'Age', 'SibSp', 'Parch', 'Fare', \n",
        "                                      'Embarked', 'Pclass', 'PassengerId', 'Ticket'\n",
        "                                      ]).rename(columns={'Name':'Count'}).transpose()"
      ],
      "execution_count": 14,
      "outputs": []
    },
    {
      "cell_type": "code",
      "metadata": {
        "id": "LnhLpy2zjhf6"
      },
      "source": [
        "def survivalDistribution(combined):\n",
        "    # Creating a dictionary for every survival count in every deck\n",
        "    survivalCount = {'ABC':{}, 'DE':{}, 'FG':{}, 'U':{}}\n",
        "    decks = combined.columns.levels[0]    \n",
        "\n",
        "    for deck in decks:\n",
        "        for survive in range(0, 2):\n",
        "            survivalCount[deck][survive] = combined[deck][survive][0]\n",
        "            \n",
        "    survival = pd.DataFrame(survivalCount)\n",
        "    survivalPercentages = {}\n",
        "\n",
        "    for col in survival.columns:\n",
        "        survivalPercentages[col] = [(count / survival[col].sum()) * 100 for count in survival[col]]\n",
        "        \n",
        "    return survivalCount, survivalPercentages"
      ],
      "execution_count": 15,
      "outputs": []
    },
    {
      "cell_type": "code",
      "metadata": {
        "id": "LpF95Fm2jh1H"
      },
      "source": [
        "def survivalPercent(percentages):    \n",
        "    survivalPercentages = pd.DataFrame(percentages).transpose()\n",
        "    decks = ('ABC', 'DE', 'FG', 'U')\n",
        "    barCount = np.arange(len(decks))  \n",
        "    barSize = 0.5    \n",
        "\n",
        "    died = survivalPercentages[0]\n",
        "    survived = survivalPercentages[1]\n",
        "    \n",
        "    plt.figure(figsize=(7, 5))\n",
        "    plt.bar(barCount, died, color='#A52A2A', edgecolor='black', width=barSize, label=\"Died\")\n",
        "    plt.bar(barCount, survived, bottom=died, color='#7CB9E8', edgecolor='black', width=barSize, label=\"Survived\")\n",
        " \n",
        "    plt.xlabel('Deck', size=15, labelpad=20)\n",
        "    plt.ylabel('Percentage', size=15, labelpad=20)\n",
        "    plt.xticks(barCount, decks)    \n",
        "    plt.tick_params(axis='x', labelsize=15)\n",
        "    plt.tick_params(axis='y', labelsize=15)\n",
        "    \n",
        "    plt.legend(loc='upper left', bbox_to_anchor=(1, 1), prop={'size': 15})\n",
        "    plt.title('Survival Percentage for Decks', size=18, y=1.05)\n",
        "    \n",
        "    plt.show()"
      ],
      "execution_count": 16,
      "outputs": []
    },
    {
      "cell_type": "code",
      "metadata": {
        "colab": {
          "base_uri": "https://localhost:8080/",
          "height": 0
        },
        "id": "ZRJaUuDUjmV8",
        "outputId": "903a99ce-a8bc-4bbe-c2cf-9667d3e6f5ff"
      },
      "source": [
        "# BarPlot to compare survival percent for Deck groups\n",
        "\n",
        "combinedSurvivalCount, combinedSurvivalPercent = survivalDistribution(combinedSurvival)\n",
        "survivalPercent(combinedSurvivalPercent)"
      ],
      "execution_count": 17,
      "outputs": [
        {
          "output_type": "display_data",
          "data": {
            "image/png": "[encoded data removed]",
            "text/plain": [
              "<Figure size 504x360 with 1 Axes>"
            ]
          },
          "metadata": {
            "tags": [],
            "needs_background": "light"
          }
        }
      ]
    },
    {
      "cell_type": "markdown",
      "metadata": {
        "id": "X031FI0qDSAt"
      },
      "source": [
        "# Embarked"
      ]
    },
    {
      "cell_type": "code",
      "metadata": {
        "colab": {
          "base_uri": "https://localhost:8080/",
          "height": 0
        },
        "id": "ulw2sqjWDX_p",
        "outputId": "1c9a510e-d48c-438a-a543-391aeb4854f9"
      },
      "source": [
        "# Show number of nulls in Embarked column\n",
        "\n",
        "print('Amount of Nulls:', combined.Embarked.isnull().sum(), '\\n')\n",
        "combined[combined['Embarked'].isnull()]"
      ],
      "execution_count": 18,
      "outputs": [
        {
          "output_type": "stream",
          "text": [
            "Amount of Nulls: 2 \n",
            "\n"
          ],
          "name": "stdout"
        },
        {
          "output_type": "execute_result",
          "data": {
            "text/html": [
              "<div>\n",
              "<style scoped>\n",
              "    .dataframe tbody tr th:only-of-type {\n",
              "        vertical-align: middle;\n",
              "    }\n",
              "\n",
              "    .dataframe tbody tr th {\n",
              "        vertical-align: top;\n",
              "    }\n",
              "\n",
              "    .dataframe thead th {\n",
              "        text-align: right;\n",
              "    }\n",
              "</style>\n",
              "<table border=\"1\" class=\"dataframe\">\n",
              "  <thead>\n",
              "    <tr style=\"text-align: right;\">\n",
              "      <th></th>\n",
              "      <th>PassengerId</th>\n",
              "      <th>Survived</th>\n",
              "      <th>Pclass</th>\n",
              "      <th>Name</th>\n",
              "      <th>Sex</th>\n",
              "      <th>Age</th>\n",
              "      <th>SibSp</th>\n",
              "      <th>Parch</th>\n",
              "      <th>Ticket</th>\n",
              "      <th>Fare</th>\n",
              "      <th>Embarked</th>\n",
              "      <th>qAge</th>\n",
              "      <th>Deck</th>\n",
              "    </tr>\n",
              "  </thead>\n",
              "  <tbody>\n",
              "    <tr>\n",
              "      <th>61</th>\n",
              "      <td>62</td>\n",
              "      <td>1.0</td>\n",
              "      <td>1</td>\n",
              "      <td>Icard, Miss. Amelie</td>\n",
              "      <td>female</td>\n",
              "      <td>38.0</td>\n",
              "      <td>0</td>\n",
              "      <td>0</td>\n",
              "      <td>113572</td>\n",
              "      <td>80.0</td>\n",
              "      <td>NaN</td>\n",
              "      <td>(37.0, 41.029]</td>\n",
              "      <td>ABC</td>\n",
              "    </tr>\n",
              "    <tr>\n",
              "      <th>829</th>\n",
              "      <td>830</td>\n",
              "      <td>1.0</td>\n",
              "      <td>1</td>\n",
              "      <td>Stone, Mrs. George Nelson (Martha Evelyn)</td>\n",
              "      <td>female</td>\n",
              "      <td>62.0</td>\n",
              "      <td>0</td>\n",
              "      <td>0</td>\n",
              "      <td>113572</td>\n",
              "      <td>80.0</td>\n",
              "      <td>NaN</td>\n",
              "      <td>(50.0, 80.0]</td>\n",
              "      <td>ABC</td>\n",
              "    </tr>\n",
              "  </tbody>\n",
              "</table>\n",
              "</div>"
            ],
            "text/plain": [
              "     PassengerId  Survived  Pclass                                       Name     Sex   Age  SibSp  Parch  Ticket  Fare Embarked            qAge Deck\n",
              "61            62       1.0       1                        Icard, Miss. Amelie  female  38.0      0      0  113572  80.0      NaN  (37.0, 41.029]  ABC\n",
              "829          830       1.0       1  Stone, Mrs. George Nelson (Martha Evelyn)  female  62.0      0      0  113572  80.0      NaN    (50.0, 80.0]  ABC"
            ]
          },
          "metadata": {
            "tags": []
          },
          "execution_count": 18
        }
      ]
    },
    {
      "cell_type": "code",
      "metadata": {
        "id": "_6PS0VhVFjKJ"
      },
      "source": [
        "# https://www.encyclopedia-titanica.org/titanic-survivor/martha-evelyn-stone.html\n",
        "# states that both these passengers boarded from Southampton\n",
        "\n",
        "combined['Embarked'] = combined['Embarked'].fillna('S')"
      ],
      "execution_count": 19,
      "outputs": []
    },
    {
      "cell_type": "markdown",
      "metadata": {
        "id": "my95PqQAGOAK"
      },
      "source": [
        "# Fare"
      ]
    },
    {
      "cell_type": "code",
      "metadata": {
        "colab": {
          "base_uri": "https://localhost:8080/",
          "height": 0
        },
        "id": "ZOz1TU-3GTN9",
        "outputId": "d5549ae1-a25b-4bc4-df53-65c67a89611e"
      },
      "source": [
        "# Show number of nulls in Fare column\n",
        "\n",
        "print('Amount of Nulls:', combined.Fare.isnull().sum(), '\\n')\n",
        "combined[combined['Fare'].isnull()]"
      ],
      "execution_count": 20,
      "outputs": [
        {
          "output_type": "stream",
          "text": [
            "Amount of Nulls: 1 \n",
            "\n"
          ],
          "name": "stdout"
        },
        {
          "output_type": "execute_result",
          "data": {
            "text/html": [
              "<div>\n",
              "<style scoped>\n",
              "    .dataframe tbody tr th:only-of-type {\n",
              "        vertical-align: middle;\n",
              "    }\n",
              "\n",
              "    .dataframe tbody tr th {\n",
              "        vertical-align: top;\n",
              "    }\n",
              "\n",
              "    .dataframe thead th {\n",
              "        text-align: right;\n",
              "    }\n",
              "</style>\n",
              "<table border=\"1\" class=\"dataframe\">\n",
              "  <thead>\n",
              "    <tr style=\"text-align: right;\">\n",
              "      <th></th>\n",
              "      <th>PassengerId</th>\n",
              "      <th>Survived</th>\n",
              "      <th>Pclass</th>\n",
              "      <th>Name</th>\n",
              "      <th>Sex</th>\n",
              "      <th>Age</th>\n",
              "      <th>SibSp</th>\n",
              "      <th>Parch</th>\n",
              "      <th>Ticket</th>\n",
              "      <th>Fare</th>\n",
              "      <th>Embarked</th>\n",
              "      <th>qAge</th>\n",
              "      <th>Deck</th>\n",
              "    </tr>\n",
              "  </thead>\n",
              "  <tbody>\n",
              "    <tr>\n",
              "      <th>1043</th>\n",
              "      <td>1044</td>\n",
              "      <td>NaN</td>\n",
              "      <td>3</td>\n",
              "      <td>Storey, Mr. Thomas</td>\n",
              "      <td>male</td>\n",
              "      <td>60.5</td>\n",
              "      <td>0</td>\n",
              "      <td>0</td>\n",
              "      <td>3701</td>\n",
              "      <td>NaN</td>\n",
              "      <td>S</td>\n",
              "      <td>(50.0, 80.0]</td>\n",
              "      <td>U</td>\n",
              "    </tr>\n",
              "  </tbody>\n",
              "</table>\n",
              "</div>"
            ],
            "text/plain": [
              "      PassengerId  Survived  Pclass                Name   Sex   Age  SibSp  Parch Ticket  Fare Embarked          qAge Deck\n",
              "1043         1044       NaN       3  Storey, Mr. Thomas  male  60.5      0      0   3701   NaN        S  (50.0, 80.0]    U"
            ]
          },
          "metadata": {
            "tags": []
          },
          "execution_count": 20
        }
      ]
    },
    {
      "cell_type": "code",
      "metadata": {
        "id": "YPUT1Z3mJD-t"
      },
      "source": [
        "# Insert similar value for missing Fare row\n",
        "\n",
        "combined['Fare'] = combined['Fare'].fillna(9.33)\n",
        "combined['qFare'] = pd.qcut(combined['Fare'], 12)"
      ],
      "execution_count": 21,
      "outputs": []
    },
    {
      "cell_type": "code",
      "metadata": {
        "colab": {
          "base_uri": "https://localhost:8080/",
          "height": 0
        },
        "id": "pUKS0Yk6Mlqg",
        "outputId": "e83d5c90-5319-423b-ffb5-0efc9bdc5127"
      },
      "source": [
        "plt.figure(figsize=(20, 8))\n",
        "\n",
        "sns.countplot(x='qFare', hue='Survived', data=combined, \n",
        "              edgecolor='black', palette=['#A52A2A', '#7CB9E8'])\n",
        "\n",
        "plt.xlabel('qFare', size=15, labelpad=20)\n",
        "plt.ylabel('Passenger Count', size=15, labelpad=20)\n",
        "plt.tick_params(axis='x', labelsize=11)\n",
        "plt.tick_params(axis='y', labelsize=15)\n",
        "\n",
        "plt.legend(['Died', 'Survived'], loc='upper right', prop={'size': 15})\n",
        "plt.title('Passenger Survival for {}'.format('Fare'), size=15, y=1.05)\n",
        "\n",
        "plt.show()"
      ],
      "execution_count": 22,
      "outputs": [
        {
          "output_type": "display_data",
          "data": {
            "image/png": "[encoded data removed]",
            "text/plain": [
              "<Figure size 1440x576 with 1 Axes>"
            ]
          },
          "metadata": {
            "tags": [],
            "needs_background": "light"
          }
        }
      ]
    },
    {
      "cell_type": "markdown",
      "metadata": {
        "id": "tp8maGB0Mc3n"
      },
      "source": [
        "# GroupSize"
      ]
    },
    {
      "cell_type": "code",
      "metadata": {
        "id": "fTxDlYxMztVn"
      },
      "source": [
        "# Combine existing SibSp and Parch columns to create new GroupCount column\n",
        "\n",
        "combined['GroupCount'] = combined['SibSp'] + combined['Parch'] + 1"
      ],
      "execution_count": 23,
      "outputs": []
    },
    {
      "cell_type": "code",
      "metadata": {
        "id": "gF5L3GOiiaNH"
      },
      "source": [
        "# Create new columns dependant on GroupCount size\n",
        "\n",
        "combined['Alone'] = combined['GroupCount'].map(lambda s: 1 if s == 1 else 0)\n",
        "combined['SmallGroup'] = combined['GroupCount'].map(lambda s: 1 if 2 <= s <= 4 else 0)\n",
        "combined['MedGroup'] = combined['GroupCount'].map(lambda s: 1 if 5 <= s <= 6 else 0)\n",
        "combined['LargeGroup'] = combined['GroupCount'].map(lambda s: 1 if s >= 7 else 0)"
      ],
      "execution_count": 24,
      "outputs": []
    },
    {
      "cell_type": "code",
      "metadata": {
        "id": "ehg2nE9R3pyZ"
      },
      "source": [
        "groupMap = {1: 'Alone',\n",
        "            2: 'SmallGroup', 3: 'SmallGroup', 4: 'SmallGroup', \n",
        "            5: 'MedGroup', 6: 'MedGroup',\n",
        "            7: 'LargeGroup', 8: 'LargeGroup', 11: 'LargeGroup'}\n",
        "combined['GroupSize'] = combined['GroupCount'].map(groupMap)"
      ],
      "execution_count": 25,
      "outputs": []
    },
    {
      "cell_type": "code",
      "metadata": {
        "colab": {
          "base_uri": "https://localhost:8080/",
          "height": 0
        },
        "id": "ePxSTlT7igXW",
        "outputId": "3364f060-91d7-4987-c093-13f42d703e6f"
      },
      "source": [
        "plt.figure(figsize=(9, 5))\n",
        "\n",
        "sns.countplot(x='GroupSize', hue='Survived', data=combined,  \n",
        "              order=['Alone', 'SmallGroup', 'MedGroup', 'LargeGroup'], \n",
        "              edgecolor='black', palette=['#A52A2A', '#7CB9E8'])\n",
        "\n",
        "plt.xlabel('Group Size', size=15, labelpad=20)\n",
        "plt.ylabel('Passenger Count', size=15, labelpad=20)\n",
        "plt.tick_params(axis='x', labelsize=12)\n",
        "plt.tick_params(axis='y', labelsize=12)\n",
        "\n",
        "plt.legend(['Died', 'Survived'], loc='upper right', prop={'size': 15})\n",
        "plt.title('Passenger Survival for {}'.format('Group Size'), size=15, y=1.05)\n",
        "\n",
        "plt.show()"
      ],
      "execution_count": 26,
      "outputs": [
        {
          "output_type": "display_data",
          "data": {
            "image/png": "[encoded data removed]",
            "text/plain": [
              "<Figure size 648x360 with 1 Axes>"
            ]
          },
          "metadata": {
            "tags": [],
            "needs_background": "light"
          }
        }
      ]
    },
    {
      "cell_type": "markdown",
      "metadata": {
        "id": "ZjUQ273VmNH0"
      },
      "source": [
        "# Name"
      ]
    },
    {
      "cell_type": "code",
      "metadata": {
        "id": "VhejQp0ZQYWK"
      },
      "source": [
        "# Create Title column from existing Name column, using str.split to ignore anything other than the passengers Title\n",
        "\n",
        "combined['Title'] = combined['Name'].str.split(', ', expand=True)[1].str.split('.', expand=True)[0]"
      ],
      "execution_count": 27,
      "outputs": []
    },
    {
      "cell_type": "code",
      "metadata": {
        "id": "dNjCz-qLiU_U"
      },
      "source": [
        "# Combine similar titles\n",
        "\n",
        "combined['Title'] = combined['Title'].replace(['Miss', 'Mlle', 'Ms', 'Mme', 'Dona'], 'Miss')\n",
        "combined['Title'] = combined['Title'].replace(['Mrs', 'the Countess', 'Lady'], 'Mrs')\n",
        "combined['Title'] = combined['Title'].replace(['Dr', 'Rev', 'Col', 'Major', 'Jonkheer', 'Sir', 'Capt', 'Don'], 'Military')"
      ],
      "execution_count": 28,
      "outputs": []
    },
    {
      "cell_type": "code",
      "metadata": {
        "id": "_hryBnHaiVBv"
      },
      "source": [
        "# Search Title column for 'Mrs' values, create new isMarried Column from this\n",
        "\n",
        "combined['isMarried'] = 0\n",
        "combined['isMarried'].loc[combined['Title'] == 'Mrs'] = 1\n",
        "\n",
        "combined.drop(['Name'], inplace=True, axis=1)"
      ],
      "execution_count": 29,
      "outputs": []
    },
    {
      "cell_type": "markdown",
      "metadata": {
        "id": "-XW3z1NVkpZJ"
      },
      "source": [
        "# Model Prep"
      ]
    },
    {
      "cell_type": "code",
      "metadata": {
        "id": "QBbYqETDkw5O"
      },
      "source": [
        "# Create dummies for columns that do not contain numerical data to allow the model to read this data\n",
        "\n",
        "sex = pd.get_dummies(combined['Sex'], sparse=False)\n",
        "embarked = pd.get_dummies(combined['Embarked'], sparse=False)\n",
        "deck = pd.get_dummies(combined['Deck'], sparse=False)\n",
        "title = pd.get_dummies(combined['Title'], sparse=False)"
      ],
      "execution_count": 30,
      "outputs": []
    },
    {
      "cell_type": "code",
      "metadata": {
        "id": "94dYiveT5C9L"
      },
      "source": [
        "# Drop pre-dummied columns and other unused columns\n",
        "\n",
        "combined.drop(['Sex', 'Ticket', 'Embarked', 'Deck', 'GroupSize', 'Title', 'qAge', 'qFare'], \n",
        "              axis=1, inplace=True)"
      ],
      "execution_count": 31,
      "outputs": []
    },
    {
      "cell_type": "code",
      "metadata": {
        "id": "Ks7nuZO86dyk"
      },
      "source": [
        "# Re-build train and test DataSets from Combined\n",
        "# Set train Survived column as int64 to remove decimals in the column that will be read incorrectly in Kaggle submission\n",
        "\n",
        "combined = pd.concat([combined, sex, embarked, deck, title], axis=1)\n",
        "train, test = splitDataSet(combined)\n",
        "\n",
        "train.Survived = train.Survived.astype('int64')"
      ],
      "execution_count": 32,
      "outputs": []
    },
    {
      "cell_type": "code",
      "metadata": {
        "id": "qoMBDBVj80ZK"
      },
      "source": [
        "# Create training and testing sets for model\n",
        "\n",
        "X_train = train.drop('Survived', axis = 1)\n",
        "y_train = train['Survived']\n",
        "X_test = test"
      ],
      "execution_count": 33,
      "outputs": []
    },
    {
      "cell_type": "markdown",
      "metadata": {
        "id": "x0WB2sGTvCqe"
      },
      "source": [
        "# Hyperparameter Tuning"
      ]
    },
    {
      "cell_type": "code",
      "metadata": {
        "id": "snvqW7qzvGfx"
      },
      "source": [
        "# # Hyperperameter Tuning for RandomForestClassifier\n",
        "# # This runs different parameters for the classifier to choose which values fit the best for our training data\n",
        "# # Commented out to decrease time for prediction after first pass, uncomment if you want to trial it yourself, but expect a 30minute + run time.\n",
        "\n",
        "# logModel = RandomForestClassifier(max_features='auto', oob_score=True, random_state=1, n_jobs=-1)\n",
        "\n",
        "# param_grid = {\"criterion\" : [\"gini\", \"entropy\"], \"n_estimators\" : [250, 500, 750, 1000, 1250], \"max_depth\" : [2, 4, 6, 8],\n",
        "#               \"min_samples_leaf\" : [2, 4, 6, 8], \"min_samples_split\" : [1, 3, 4, 5]}\n",
        "# gs = GridSearchCV(logModel, param_grid = param_grid, cv = 3, verbose = True, n_jobs = -1)\n",
        "\n",
        "# best_gs = gs.fit (X_train, y_train)"
      ],
      "execution_count": 34,
      "outputs": []
    },
    {
      "cell_type": "code",
      "metadata": {
        "id": "G43swliK_dDZ"
      },
      "source": [
        "# # Hyperperameter Tuning for DecisionTreeClassifier\n",
        "# # This runs different parameters for the classifier to choose which values fit the best for our training data\n",
        "# # Commented out to decrease time for prediction after first pass, uncomment if you want to trial it yourself, but expect a 30minute + run time.\n",
        "\n",
        "# logModel = DecisionTreeClassifier(max_features='auto', random_state=1)\n",
        "\n",
        "# param_grid = {\"criterion\" : [\"gini\", \"entropy\"], \"max_depth\" : [1, 2, 3, 4, 5, 6, 7, 8],\n",
        "#               \"min_samples_leaf\" : [1, 2, 3, 4, 5, 6, 7, 8], \"min_samples_split\" : [1, 2, 3, 4, 5, 6, 7, 8], \n",
        "#               \"max_leaf_nodes\" : [5, 10, 15, 20, 25, 30, 35, 40, 45, 50, 55, 60, 65, 60, 75, 80, 85, 90, 95, 100]}\n",
        "# gs = GridSearchCV(logModel, param_grid = param_grid, cv = 3, verbose = True, n_jobs = -1)\n",
        "\n",
        "# best_gs = gs.fit (X_train, y_train)"
      ],
      "execution_count": 35,
      "outputs": []
    },
    {
      "cell_type": "code",
      "metadata": {
        "id": "Mtp64fUw76jZ"
      },
      "source": [
        "# best_gs.best_estimator_"
      ],
      "execution_count": 36,
      "outputs": []
    },
    {
      "cell_type": "markdown",
      "metadata": {
        "id": "BkhzjDYtHHMj"
      },
      "source": [
        "# Prediction Models"
      ]
    },
    {
      "cell_type": "code",
      "metadata": {
        "colab": {
          "base_uri": "https://localhost:8080/"
        },
        "id": "y-OotAiwHWTj",
        "outputId": "3205aaf8-eb9c-43c8-e4b9-e01dc213c2b2"
      },
      "source": [
        "lRegression = LogisticRegression(solver = 'lbfgs', penalty = 'l2', max_iter = 400, C = 0.616, tol = 2)\n",
        "lRegression.fit(X_train, y_train)\n",
        "lRegressionY_Predict = lRegression.predict(X_test)\n",
        "lRegressionAcc = lRegression.score(X_train, y_train)\n",
        "print('Accuracy with the Logistic Regression model is: ', round(lRegressionAcc, 2))"
      ],
      "execution_count": 37,
      "outputs": [
        {
          "output_type": "stream",
          "text": [
            "Accuracy with the Logistic Regression model is:  0.84\n"
          ],
          "name": "stdout"
        },
        {
          "output_type": "stream",
          "text": [
            "/usr/local/lib/python3.7/dist-packages/sklearn/linear_model/_logistic.py:940: ConvergenceWarning: lbfgs failed to converge (status=1):\n",
            "STOP: TOTAL NO. of ITERATIONS REACHED LIMIT.\n",
            "\n",
            "Increase the number of iterations (max_iter) or scale the data as shown in:\n",
            "    https://scikit-learn.org/stable/modules/preprocessing.html\n",
            "Please also refer to the documentation for alternative solver options:\n",
            "    https://scikit-learn.org/stable/modules/linear_model.html#logistic-regression\n",
            "  extra_warning_msg=_LOGISTIC_SOLVER_CONVERGENCE_MSG)\n"
          ],
          "name": "stderr"
        }
      ]
    },
    {
      "cell_type": "code",
      "metadata": {
        "colab": {
          "base_uri": "https://localhost:8080/"
        },
        "id": "RI181FBVHWYY",
        "outputId": "06f9f30f-7793-40d9-d63b-4052fa2b3b53"
      },
      "source": [
        "dTreeR = DecisionTreeRegressor()\n",
        "dTreeR.fit(X_train, y_train)\n",
        "dTreeRY_Predict = dTreeR.predict(X_test)\n",
        "dTreeRAcc = dTreeR.score(X_train, y_train)\n",
        "print('Accuracy with the Decision Tree Regressor model is: ', round(dTreeRAcc, 2))"
      ],
      "execution_count": 38,
      "outputs": [
        {
          "output_type": "stream",
          "text": [
            "Accuracy with the Decision Tree Regressor model is:  1.0\n"
          ],
          "name": "stdout"
        }
      ]
    },
    {
      "cell_type": "code",
      "metadata": {
        "colab": {
          "base_uri": "https://localhost:8080/"
        },
        "id": "alUWk1lEHgXT",
        "outputId": "910b0fed-51d7-4d2e-98c9-3667639b50af"
      },
      "source": [
        "kNN = KNeighborsClassifier(n_neighbors = 3)\n",
        "kNN.fit(X_train, y_train)\n",
        "kNNY_Predict = kNN.predict(X_test)\n",
        "kNNAcc = kNN.score(X_train, y_train)\n",
        "print('Accuracy with the k-Nearest Neighbors model is: ', round(kNNAcc, 2))"
      ],
      "execution_count": 39,
      "outputs": [
        {
          "output_type": "stream",
          "text": [
            "Accuracy with the k-Nearest Neighbors model is:  0.81\n"
          ],
          "name": "stdout"
        }
      ]
    },
    {
      "cell_type": "code",
      "metadata": {
        "colab": {
          "base_uri": "https://localhost:8080/"
        },
        "id": "PkiNLshkHL7C",
        "outputId": "33968157-4281-44b8-c8d1-975ec798835d"
      },
      "source": [
        "rForest = RandomForestClassifier(criterion = 'gini', n_estimators=500, max_depth=6, min_samples_leaf=2, min_samples_split=5)\n",
        "rForest.fit(X_train, y_train)\n",
        "rForestY_Predict = rForest.predict(X_test)\n",
        "rForestAcc = rForest.score(X_train, y_train)\n",
        "print('Accuracy with the Random Forest model is: ', round(rForestAcc, 2))"
      ],
      "execution_count": 40,
      "outputs": [
        {
          "output_type": "stream",
          "text": [
            "Accuracy with the Random Forest model is:  0.86\n"
          ],
          "name": "stdout"
        }
      ]
    },
    {
      "cell_type": "code",
      "metadata": {
        "colab": {
          "base_uri": "https://localhost:8080/"
        },
        "id": "6U9RFNCrHk1q",
        "outputId": "ca427815-35ca-4b48-c254-60b6caa5c23a"
      },
      "source": [
        "dTree = DecisionTreeClassifier(criterion='entropy', max_depth = 8, min_samples_split = 8, min_samples_leaf = 3, max_leaf_nodes=25)\n",
        "dTree.fit(X_train, y_train)\n",
        "dTreeY_Predict = dTree.predict(X_test)\n",
        "dTreeAcc = dTree.score(X_train, y_train)\n",
        "print('Accuracy with the Decision Tree model is: ', round(dTreeAcc, 2))"
      ],
      "execution_count": 41,
      "outputs": [
        {
          "output_type": "stream",
          "text": [
            "Accuracy with the Decision Tree model is:  0.86\n"
          ],
          "name": "stdout"
        }
      ]
    },
    {
      "cell_type": "code",
      "metadata": {
        "colab": {
          "base_uri": "https://localhost:8080/",
          "height": 0
        },
        "id": "ecamGKSjHmdJ",
        "outputId": "a6456839-7be6-4fb6-b9d5-22ae2b0f48fd"
      },
      "source": [
        "mlModels = pd.DataFrame({\n",
        "    'Model': ['Logistic Regression','Decision Tree Regressor','k-Nearest Neighbor','Random Forest','Decision Tree'],\n",
        "    'Accuracy Score': [lRegressionAcc, dTreeRAcc, kNNAcc, rForestAcc, dTreeAcc], \n",
        "    'Percent (%)': [lRegressionAcc * 100, dTreeRAcc * 100, kNNAcc * 100, rForestAcc * 100, dTreeAcc * 100]})\n",
        "mlModels.sort_values(by = 'Accuracy Score', ascending = False)"
      ],
      "execution_count": 42,
      "outputs": [
        {
          "output_type": "execute_result",
          "data": {
            "text/html": [
              "<div>\n",
              "<style scoped>\n",
              "    .dataframe tbody tr th:only-of-type {\n",
              "        vertical-align: middle;\n",
              "    }\n",
              "\n",
              "    .dataframe tbody tr th {\n",
              "        vertical-align: top;\n",
              "    }\n",
              "\n",
              "    .dataframe thead th {\n",
              "        text-align: right;\n",
              "    }\n",
              "</style>\n",
              "<table border=\"1\" class=\"dataframe\">\n",
              "  <thead>\n",
              "    <tr style=\"text-align: right;\">\n",
              "      <th></th>\n",
              "      <th>Model</th>\n",
              "      <th>Accuracy Score</th>\n",
              "      <th>Percent (%)</th>\n",
              "    </tr>\n",
              "  </thead>\n",
              "  <tbody>\n",
              "    <tr>\n",
              "      <th>1</th>\n",
              "      <td>Decision Tree Regressor</td>\n",
              "      <td>1.000</td>\n",
              "      <td>100.000</td>\n",
              "    </tr>\n",
              "    <tr>\n",
              "      <th>3</th>\n",
              "      <td>Random Forest</td>\n",
              "      <td>0.856</td>\n",
              "      <td>85.634</td>\n",
              "    </tr>\n",
              "    <tr>\n",
              "      <th>4</th>\n",
              "      <td>Decision Tree</td>\n",
              "      <td>0.856</td>\n",
              "      <td>85.634</td>\n",
              "    </tr>\n",
              "    <tr>\n",
              "      <th>0</th>\n",
              "      <td>Logistic Regression</td>\n",
              "      <td>0.835</td>\n",
              "      <td>83.502</td>\n",
              "    </tr>\n",
              "    <tr>\n",
              "      <th>2</th>\n",
              "      <td>k-Nearest Neighbor</td>\n",
              "      <td>0.807</td>\n",
              "      <td>80.696</td>\n",
              "    </tr>\n",
              "  </tbody>\n",
              "</table>\n",
              "</div>"
            ],
            "text/plain": [
              "                     Model  Accuracy Score  Percent (%)\n",
              "1  Decision Tree Regressor           1.000      100.000\n",
              "3            Random Forest           0.856       85.634\n",
              "4            Decision Tree           0.856       85.634\n",
              "0      Logistic Regression           0.835       83.502\n",
              "2       k-Nearest Neighbor           0.807       80.696"
            ]
          },
          "metadata": {
            "tags": []
          },
          "execution_count": 42
        }
      ]
    },
    {
      "cell_type": "markdown",
      "metadata": {
        "id": "hDBeDmjzHpCx"
      },
      "source": [
        "# Prediction Submission"
      ]
    },
    {
      "cell_type": "code",
      "metadata": {
        "id": "X29datrPHtiQ"
      },
      "source": [
        "!rm team25.Titanic/gender_submission.csv\n",
        "gender_submission = pd.DataFrame({'PassengerId':test['PassengerId'],'Survived':rForestY_Predict})\n",
        "gender_submission.to_csv('team25.Titanic/gender_submission.csv', index = False)"
      ],
      "execution_count": 43,
      "outputs": []
    }
  ]
}